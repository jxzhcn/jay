{
 "cells": [
  {
   "cell_type": "code",
   "execution_count": null,
   "id": "a67d692a-63ad-4f13-ad5e-f79f06a84ab0",
   "metadata": {},
   "outputs": [],
   "source": [
    "pip install pandas"
   ]
  },
  {
   "cell_type": "code",
   "execution_count": null,
   "id": "6a492750-0a89-4e1d-94d6-b2740180af70",
   "metadata": {},
   "outputs": [],
   "source": [
    "pip install openpyxl"
   ]
  },
  {
   "cell_type": "code",
   "execution_count": null,
   "id": "1a78ae66-aad4-4209-a7ef-8db5847fd97b",
   "metadata": {},
   "outputs": [],
   "source": [
    "pip install pyecharts"
   ]
  },
  {
   "cell_type": "code",
   "execution_count": null,
   "id": "68acb67b-24cd-46c3-92ee-634ddb57a0ae",
   "metadata": {},
   "outputs": [],
   "source": [
    "pip install numpy"
   ]
  },
  {
   "cell_type": "code",
   "execution_count": null,
   "id": "810458c0-12f5-4f0e-8c5c-dc514871d3cf",
   "metadata": {},
   "outputs": [],
   "source": [
    "pip install sklearn"
   ]
  },
  {
   "cell_type": "code",
   "execution_count": null,
   "id": "ad66b6eb-a1d0-4aca-a641-ea9668632d83",
   "metadata": {},
   "outputs": [],
   "source": [
    "pip install requests"
   ]
  },
  {
   "cell_type": "code",
   "execution_count": null,
   "id": "7a44b2e1-0161-46fe-a5fc-afe8f3928adc",
   "metadata": {},
   "outputs": [],
   "source": [
    "pip install jason"
   ]
  },
  {
   "cell_type": "code",
   "execution_count": null,
   "id": "6a8b2379-fffe-4e55-8995-0e74d953f8af",
   "metadata": {},
   "outputs": [],
   "source": [
    "pip install lxml"
   ]
  }
 ],
 "metadata": {
  "kernelspec": {
   "display_name": "Python 3 (ipykernel)",
   "language": "python",
   "name": "python3"
  },
  "language_info": {
   "codemirror_mode": {
    "name": "ipython",
    "version": 3
   },
   "file_extension": ".py",
   "mimetype": "text/x-python",
   "name": "python",
   "nbconvert_exporter": "python",
   "pygments_lexer": "ipython3",
   "version": "3.7.10"
  }
 },
 "nbformat": 4,
 "nbformat_minor": 5
}
